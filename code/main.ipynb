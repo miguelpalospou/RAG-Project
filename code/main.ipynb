{
 "cells": [
  {
   "cell_type": "markdown",
   "metadata": {},
   "source": [
    "\n",
    "\n",
    "\n",
    "# TRANSCRIPT.IA: KNOWLEDGE IS ALL YOU NEED\n",
    "#### Overview of the project:"
   ]
  },
  {
   "cell_type": "markdown",
   "metadata": {},
   "source": [
    "![Alt text](../images/Untitled-2024-10-12-1138.png)"
   ]
  },
  {
   "cell_type": "markdown",
   "metadata": {},
   "source": [
    "## Importing required libraries"
   ]
  },
  {
   "cell_type": "code",
   "execution_count": 6,
   "metadata": {},
   "outputs": [],
   "source": [
    "import model\n",
    "import vectorstore\n",
    "import transcription\n",
    "import chains"
   ]
  },
  {
   "cell_type": "markdown",
   "metadata": {},
   "source": [
    "## Here we are setting the model. \n",
    "##### Bear in mind that the OPENAI_API_KEY, PINECONE_API_KEY keys should be defined in the test.env file. For streamlit, they should be stated in the corresponding section."
   ]
  },
  {
   "cell_type": "code",
   "execution_count": 7,
   "metadata": {},
   "outputs": [],
   "source": [
    "\n",
    "model_output=model.model()\n",
    "\n",
    "model, OPENAI_API_KEY, PINECONE_API_KEY = model_output"
   ]
  },
  {
   "cell_type": "markdown",
   "metadata": {},
   "source": [
    "### Let's input the youtube video we want to analyze"
   ]
  },
  {
   "cell_type": "code",
   "execution_count": 8,
   "metadata": {},
   "outputs": [],
   "source": [
    "youtube_link = input(\"Please enter the YouTube link (in quotes): \")\n",
    "transcription_output=transcription.transcription(youtube_link, \"transcription\")"
   ]
  },
  {
   "cell_type": "markdown",
   "metadata": {},
   "source": [
    "### Here we are creating the vectorstore in PINECONE\n",
    "##### Please provide the name of the index or database we want to create in our pinecone account. "
   ]
  },
  {
   "cell_type": "code",
   "execution_count": 9,
   "metadata": {},
   "outputs": [],
   "source": [
    "index_name = input(\"Please enter the name of the next index to create\")\n",
    "vector = vectorstore.vectorstore(PINECONE_API_KEY, index_name, transcription_output)\n"
   ]
  },
  {
   "cell_type": "code",
   "execution_count": 11,
   "metadata": {},
   "outputs": [
    {
     "name": "stdout",
     "output_type": "stream",
     "text": [
      "Cain is a biblical figure known for being the firstborn son of Adam and Eve. In the context provided, he is depicted as a character who becomes resentful of his brother Abel, whose sacrifices are favored by God. This resentment leads Cain to commit fratricide by killing Abel. Cain's story is often interpreted as a representation of human jealousy and the consequences of failing to take responsibility for one's actions.\n"
     ]
    }
   ],
   "source": [
    "\n",
    "question = input(\"What would you like to ask?\")\n",
    "chain=chains.chains(vector, question, model)\n",
    "print(chain)\n"
   ]
  }
 ],
 "metadata": {
  "kernelspec": {
   "display_name": "ironhack",
   "language": "python",
   "name": "python3"
  },
  "language_info": {
   "codemirror_mode": {
    "name": "ipython",
    "version": 3
   },
   "file_extension": ".py",
   "mimetype": "text/x-python",
   "name": "python",
   "nbconvert_exporter": "python",
   "pygments_lexer": "ipython3",
   "version": "3.12.2"
  }
 },
 "nbformat": 4,
 "nbformat_minor": 2
}
