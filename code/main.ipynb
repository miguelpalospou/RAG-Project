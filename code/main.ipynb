{
 "cells": [
  {
   "cell_type": "markdown",
   "metadata": {},
   "source": [
    "\n",
    "\n",
    "\n",
    "# TRANSCRIPT.IA: KNOWLEDGE IS ALL YOU NEED\n",
    "#### Overview of the project:"
   ]
  },
  {
   "cell_type": "markdown",
   "metadata": {},
   "source": [
    "![Alt text](../images/Untitled-2024-10-12-1138.png)"
   ]
  },
  {
   "cell_type": "markdown",
   "metadata": {},
   "source": [
    "## Importing required libraries"
   ]
  },
  {
   "cell_type": "code",
   "execution_count": 4,
   "metadata": {},
   "outputs": [],
   "source": [
    "import model\n",
    "import vectorstore\n",
    "import transcription\n",
    "import chains"
   ]
  },
  {
   "cell_type": "markdown",
   "metadata": {},
   "source": [
    "## Here we are setting the model. \n",
    "##### Bear in mind that the OPENAI_API_KEY, PINECONE_API_KEY keys should be defined in the test.env file. For streamlit, they should be stated in the corresponding section."
   ]
  },
  {
   "cell_type": "code",
   "execution_count": 5,
   "metadata": {},
   "outputs": [
    {
     "name": "stderr",
     "output_type": "stream",
     "text": [
      "/Users/miguelpalospou/Desktop/Data_projects/model.py:12: LangChainDeprecationWarning: The class `ChatOpenAI` was deprecated in LangChain 0.0.10 and will be removed in 1.0. An updated version of the class exists in the :class:`~langchain-openai package and should be used instead. To use it run `pip install -U :class:`~langchain-openai` and import as `from :class:`~langchain_openai import ChatOpenAI``.\n",
      "  model = ChatOpenAI(openai_api_key=OPENAI_API_KEY, model=\"gpt-4o-mini\")\n"
     ]
    }
   ],
   "source": [
    "\n",
    "model_output=model.model()\n",
    "\n",
    "model, OPENAI_API_KEY, PINECONE_API_KEY = model_output"
   ]
  },
  {
   "cell_type": "markdown",
   "metadata": {},
   "source": [
    "### Let's input the youtube video we want to analyze"
   ]
  },
  {
   "cell_type": "code",
   "execution_count": 6,
   "metadata": {},
   "outputs": [],
   "source": [
    "youtube_link = input(\"Please enter the YouTube link (in quotes): \")\n",
    "transcription_output=transcription.transcription(youtube_link, \"transcription\")"
   ]
  },
  {
   "cell_type": "markdown",
   "metadata": {},
   "source": [
    "### Here we are creating the vectorstore in PINECONE\n",
    "##### Please provide the name of the index or database we want to create in our pinecone account. "
   ]
  },
  {
   "cell_type": "code",
   "execution_count": 7,
   "metadata": {},
   "outputs": [
    {
     "name": "stderr",
     "output_type": "stream",
     "text": [
      "/opt/anaconda3/envs/ironhack/lib/python3.12/site-packages/pinecone/data/index.py:1: TqdmWarning: IProgress not found. Please update jupyter and ipywidgets. See https://ipywidgets.readthedocs.io/en/stable/user_install.html\n",
      "  from tqdm.autonotebook import tqdm\n",
      "/opt/anaconda3/envs/ironhack/lib/python3.12/site-packages/pydantic/_migration.py:283: UserWarning: `pydantic.error_wrappers:ValidationError` has been moved to `pydantic:ValidationError`.\n",
      "  warnings.warn(f'`{import_path}` has been moved to `{new_location}`.')\n"
     ]
    }
   ],
   "source": [
    "index_name = input(\"Please enter the name of the next index to create\")\n",
    "vector = vectorstore.vectorstore(PINECONE_API_KEY, index_name, transcription_output)\n"
   ]
  },
  {
   "cell_type": "code",
   "execution_count": 13,
   "metadata": {},
   "outputs": [
    {
     "name": "stdout",
     "output_type": "stream",
     "text": [
      "Cain is depicted as a character who feels resentment and jealousy towards his brother Abel, whose sacrifices are favored by God while Cain's are not. Despite being told by God that his problems stem from his own actions and that he needs to look to himself, Cain's resentment leads him to kill Abel. This act of fratricide is portrayed as part of a larger narrative about human conflict, jealousy, and the consequences of allowing negative emotions to take over. Cain's story serves as a cautionary tale about the dangers of resentment and the choices individuals make in response to their feelings of inadequacy and jealousy.\n"
     ]
    }
   ],
   "source": [
    "\n",
    "question = input(\"What would you like to ask?\")\n",
    "chain=chains.chains(vector, question, model)\n",
    "print(chain)\n"
   ]
  }
 ],
 "metadata": {
  "kernelspec": {
   "display_name": "ironhack",
   "language": "python",
   "name": "python3"
  },
  "language_info": {
   "codemirror_mode": {
    "name": "ipython",
    "version": 3
   },
   "file_extension": ".py",
   "mimetype": "text/x-python",
   "name": "python",
   "nbconvert_exporter": "python",
   "pygments_lexer": "ipython3",
   "version": "3.12.2"
  }
 },
 "nbformat": 4,
 "nbformat_minor": 2
}
